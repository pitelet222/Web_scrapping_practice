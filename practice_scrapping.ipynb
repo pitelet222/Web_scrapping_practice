{
 "cells": [
  {
   "cell_type": "markdown",
   "id": "8ea7280a",
   "metadata": {},
   "source": [
    "### Step 1: Get the website content"
   ]
  },
  {
   "cell_type": "code",
   "execution_count": null,
   "id": "daf0f721",
   "metadata": {},
   "outputs": [],
   "source": [
    "# Step 1: Get the quotes website\n",
    "url = \"http://quotes.toscrape.com/\"\n",
    "response = requests.get(url)\n",
    "soup = BeautifulSoup(response.content, 'html.parser')\n",
    "\n",
    "print(\"✅ Got the quotes website!\")\n",
    "print(f\"Status code: {response.status_code}\")"
   ]
  },
  {
   "cell_type": "markdown",
   "id": "3d4abf99",
   "metadata": {},
   "source": [
    "### Step 2: Find ALL Quote Containers "
   ]
  },
  {
   "cell_type": "code",
   "execution_count": null,
   "id": "0bcdcba7",
   "metadata": {},
   "outputs": [],
   "source": [
    "# Step 2: Find all quote containers (every single quote on the page)\n",
    "all_quotes = soup.find_all('div', class_='quote')\n",
    "\n",
    "print(f\"📦 Found {len(all_quotes)} total quotes on the page\")\n",
    "print(\"🔍 Now we'll check each one to see if it's from Einstein...\")"
   ]
  },
  {
   "cell_type": "markdown",
   "id": "ff1695ce",
   "metadata": {},
   "source": [
    "## Create a function that displays the quote, author and tags of an specific author"
   ]
  },
  {
   "cell_type": "code",
   "execution_count": null,
   "id": "b59f1a1c",
   "metadata": {},
   "outputs": [],
   "source": [
    "## find all quotes in the url  (\"div\", \"quote\")\n",
    "\n",
    "all_quotes = soup.find_all('div', class_='quote')\n",
    "\n",
    "\n",
    "## define the function\n",
    "\n",
    "def find_author_quotes(author_name):\n",
    "\n",
    "    \"\"\"Set a empty list that will contain as a dictionary \n",
    "    the quote, author and tags as keys, and the values \n",
    "    will be the content of each class we look for\n",
    "\n",
    "    look for all author names with quote.find(\"<tagname>\", class=\"\")\n",
    "\n",
    "    if the author we look for, matches any author the pages has:\n",
    "        \n",
    "        fill the dictionary with the values: author, quote and tags\n",
    "\n",
    "    Returns:\n",
    "        dictionary with the things we looked for\n",
    "    \"\"\"\n",
    "\n",
    "    matching_quotes = []\n",
    "\n",
    "    for quote in all_quotes:\n",
    "\n",
    "        author = quote.find(\"small\", class_=\"author\").get_text()\n",
    "\n",
    "        if author == author_name:\n",
    "\n",
    "            text = quote.find(\"span\", class_=\"text\").get_text()\n",
    "            tags = [tag.get_text() for tag in quote.find_all(\"a\", class_=\"tag\")]\n",
    "            matching_quotes.append({\n",
    "                \"text\": text,\n",
    "                \"author\": author,\n",
    "                \"tags\": \", \".join(tags)\n",
    "            })\n",
    "    \n",
    "    return matching_quotes\n",
    "\n",
    "Einstein_quotes = find_author_quotes(\"Albert Einstein\")\n",
    "Marilyn_quotes = find_author_quotes(\"Marilyn Monroe\")\n",
    "\n",
    "Einstein_quotes\n",
    "\n",
    "            \n",
    "    \n"
   ]
  },
  {
   "cell_type": "markdown",
   "id": "43147f76",
   "metadata": {},
   "source": [
    "## Create a function that looks for quotes that have specific tags"
   ]
  },
  {
   "cell_type": "code",
   "execution_count": null,
   "id": "dc037661",
   "metadata": {},
   "outputs": [],
   "source": [
    "def find_tag_quotes(tag_name):\n",
    "\n",
    "\n",
    "    \"\"\"Same process than the previous function but with tags\"\"\"\n",
    "    \n",
    "    matching_quotes = []\n",
    "\n",
    "    for quote in all_quotes:\n",
    "        \n",
    "        quote_tags = [tag.get_text() for tag in quote.find_all(\"a\", class_=\"tag\")]\n",
    "        \n",
    "        if tag_name in quote_tags:\n",
    "            \n",
    "            text = quote.find(\"span\", class_=\"text\").get_text()\n",
    "            author = quote.find(\"small\", class_=\"author\").get_text()\n",
    "            \n",
    "            matching_quotes.append({\n",
    "                \"text\": text,\n",
    "                \"author\": author,\n",
    "                \"tags\": \", \".join(quote_tags)\n",
    "            })\n",
    "    \n",
    "    return matching_quotes\n",
    "\n",
    "print(\"🔍 Buscando quotes con el tag 'choices'...\")\n",
    "choices_quotes = find_tag_quotes(\"inspirational\")\n",
    "print(f\"\\n📋 Found {len(choices_quotes)} quotes with tag 'choices'\")\n",
    "\n",
    "# Mostrar los resultados\n",
    "for i, quote in enumerate(choices_quotes, 1):\n",
    "    print(f\"\\n📖 Quote #{i} with tag 'inspiration':\")\n",
    "    print(f\"   Text: {quote['text']}...\")\n",
    "    print(f\"   Author: {quote['author']}\")\n",
    "    print(f\"   All tags: {quote['tags']}\")"
   ]
  }
 ],
 "metadata": {
  "language_info": {
   "name": "python"
  }
 },
 "nbformat": 4,
 "nbformat_minor": 5
}
