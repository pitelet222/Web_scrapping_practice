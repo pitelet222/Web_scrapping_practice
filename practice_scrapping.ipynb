{
 "cells": [
  {
   "cell_type": "code",
   "execution_count": 3,
   "id": "e893d478",
   "metadata": {},
   "outputs": [],
   "source": [
    "from urllib.request import urlopen\n",
    "from bs4 import BeautifulSoup\n",
    "import requests"
   ]
  },
  {
   "cell_type": "markdown",
   "id": "8ea7280a",
   "metadata": {},
   "source": [
    "### Step 1: Get the website content"
   ]
  },
  {
   "cell_type": "code",
   "execution_count": 4,
   "id": "daf0f721",
   "metadata": {},
   "outputs": [
    {
     "name": "stdout",
     "output_type": "stream",
     "text": [
      "✅ Got the quotes website!\n",
      "Status code: 200\n"
     ]
    }
   ],
   "source": [
    "# Step 1: Get the quotes website\n",
    "url = \"http://quotes.toscrape.com/\"\n",
    "response = requests.get(url)\n",
    "soup = BeautifulSoup(response.content, 'html.parser')\n",
    "\n",
    "print(\"✅ Got the quotes website!\")\n",
    "print(f\"Status code: {response.status_code}\")"
   ]
  },
  {
   "cell_type": "markdown",
   "id": "3d4abf99",
   "metadata": {},
   "source": [
    "### Step 2: Find ALL Quote Containers "
   ]
  },
  {
   "cell_type": "code",
   "execution_count": 5,
   "id": "0bcdcba7",
   "metadata": {},
   "outputs": [
    {
     "name": "stdout",
     "output_type": "stream",
     "text": [
      "📦 Found 10 total quotes on the page\n",
      "🔍 Now we'll check each one to see if it's from Einstein...\n"
     ]
    }
   ],
   "source": [
    "# Step 2: Find all quote containers (every single quote on the page)\n",
    "all_quotes = soup.find_all('div', class_='quote')\n",
    "\n",
    "print(f\"📦 Found {len(all_quotes)} total quotes on the page\")\n",
    "print(\"🔍 Now we'll check each one to see if it's from Einstein...\")"
   ]
  },
  {
   "cell_type": "markdown",
   "id": "ff1695ce",
   "metadata": {},
   "source": [
    "## Create a function that displays the quote, author and tags of an specific author"
   ]
  },
  {
   "cell_type": "code",
   "execution_count": 6,
   "id": "b59f1a1c",
   "metadata": {},
   "outputs": [
    {
     "data": {
      "text/plain": [
       "[{'text': '“The world as we have created it is a process of our thinking. It cannot be changed without changing our thinking.”',\n",
       "  'author': 'Albert Einstein',\n",
       "  'tags': 'change, deep-thoughts, thinking, world'},\n",
       " {'text': '“There are only two ways to live your life. One is as though nothing is a miracle. The other is as though everything is a miracle.”',\n",
       "  'author': 'Albert Einstein',\n",
       "  'tags': 'inspirational, life, live, miracle, miracles'},\n",
       " {'text': '“Try not to become a man of success. Rather become a man of value.”',\n",
       "  'author': 'Albert Einstein',\n",
       "  'tags': 'adulthood, success, value'}]"
      ]
     },
     "execution_count": 6,
     "metadata": {},
     "output_type": "execute_result"
    }
   ],
   "source": [
    "## find all quotes in the url  (\"div\", \"quote\")\n",
    "\n",
    "all_quotes = soup.find_all('div', class_='quote')\n",
    "\n",
    "\n",
    "## define the function\n",
    "\n",
    "def find_author_quotes(author_name):\n",
    "\n",
    "    \"\"\"Set a empty list that will contain as a dictionary \n",
    "    the quote, author and tags as keys, and the values \n",
    "    will be the content of each class we look for\n",
    "\n",
    "    look for all author names with quote.find(\"<tagname>\", class=\"\")\n",
    "\n",
    "    if the author we look for, matches any author the pages has:\n",
    "        \n",
    "        fill the dictionary with the values: author, quote and tags\n",
    "\n",
    "    Returns:\n",
    "        dictionary with the things we looked for\n",
    "    \"\"\"\n",
    "\n",
    "    matching_quotes = []\n",
    "\n",
    "    for quote in all_quotes:\n",
    "\n",
    "        author = quote.find(\"small\", class_=\"author\").get_text()\n",
    "\n",
    "        if author == author_name:\n",
    "\n",
    "            text = quote.find(\"span\", class_=\"text\").get_text()\n",
    "            tags = [tag.get_text() for tag in quote.find_all(\"a\", class_=\"tag\")]\n",
    "            matching_quotes.append({\n",
    "                \"text\": text,\n",
    "                \"author\": author,\n",
    "                \"tags\": \", \".join(tags)\n",
    "            })\n",
    "    \n",
    "    return matching_quotes\n",
    "\n",
    "Einstein_quotes = find_author_quotes(\"Albert Einstein\")\n",
    "Marilyn_quotes = find_author_quotes(\"Marilyn Monroe\")\n",
    "\n",
    "Einstein_quotes\n",
    "\n",
    "            \n",
    "    \n"
   ]
  },
  {
   "cell_type": "markdown",
   "id": "43147f76",
   "metadata": {},
   "source": [
    "## Create a function that looks for quotes that have specific tags"
   ]
  },
  {
   "cell_type": "code",
   "execution_count": 7,
   "id": "dc037661",
   "metadata": {},
   "outputs": [
    {
     "name": "stdout",
     "output_type": "stream",
     "text": [
      "🔍 Buscando quotes con el tag 'choices'...\n",
      "\n",
      "📋 Found 3 quotes with tag 'choices'\n",
      "\n",
      "📖 Quote #1 with tag 'inspiration':\n",
      "   Text: “There are only two ways to live your life. One is as though nothing is a miracle. The other is as though everything is a miracle.”...\n",
      "   Author: Albert Einstein\n",
      "   All tags: inspirational, life, live, miracle, miracles\n",
      "\n",
      "📖 Quote #2 with tag 'inspiration':\n",
      "   Text: “Imperfection is beauty, madness is genius and it's better to be absolutely ridiculous than absolutely boring.”...\n",
      "   Author: Marilyn Monroe\n",
      "   All tags: be-yourself, inspirational\n",
      "\n",
      "📖 Quote #3 with tag 'inspiration':\n",
      "   Text: “I have not failed. I've just found 10,000 ways that won't work.”...\n",
      "   Author: Thomas A. Edison\n",
      "   All tags: edison, failure, inspirational, paraphrased\n"
     ]
    }
   ],
   "source": [
    "def find_tag_quotes(tag_name):\n",
    "\n",
    "\n",
    "    \"\"\"Same process than the previous function but with tags\"\"\"\n",
    "    \n",
    "    matching_quotes = []\n",
    "\n",
    "    for quote in all_quotes:\n",
    "        \n",
    "        quote_tags = [tag.get_text() for tag in quote.find_all(\"a\", class_=\"tag\")]\n",
    "        \n",
    "        if tag_name in quote_tags:\n",
    "            \n",
    "            text = quote.find(\"span\", class_=\"text\").get_text()\n",
    "            author = quote.find(\"small\", class_=\"author\").get_text()\n",
    "            \n",
    "            matching_quotes.append({\n",
    "                \"text\": text,\n",
    "                \"author\": author,\n",
    "                \"tags\": \", \".join(quote_tags)\n",
    "            })\n",
    "    \n",
    "    return matching_quotes\n",
    "\n",
    "print(\"🔍 Buscando quotes con el tag 'choices'...\")\n",
    "choices_quotes = find_tag_quotes(\"inspirational\")\n",
    "print(f\"\\n📋 Found {len(choices_quotes)} quotes with tag 'choices'\")\n",
    "\n",
    "# Mostrar los resultados\n",
    "for i, quote in enumerate(choices_quotes, 1):\n",
    "    print(f\"\\n📖 Quote #{i} with tag 'inspiration':\")\n",
    "    print(f\"   Text: {quote['text']}...\")\n",
    "    print(f\"   Author: {quote['author']}\")\n",
    "    print(f\"   All tags: {quote['tags']}\")"
   ]
  },
  {
   "cell_type": "code",
   "execution_count": null,
   "id": "ab9d033b",
   "metadata": {},
   "outputs": [
    {
     "name": "stdout",
     "output_type": "stream",
     "text": [
      "✅ Got the quotes website!\n",
      "Status code: 200\n"
     ]
    }
   ],
   "source": [
    "# Step 1: Get the quotes website\n",
    "url = \"https://books.toscrape.com/\"\n",
    "response = requests.get(url)\n",
    "soup = BeautifulSoup(response.content, \"html.parser\")\n",
    "\n",
    "print(\"✅ Got the quotes website!\")\n",
    "print(f\"Status code: {response.status_code}\")"
   ]
  },
  {
   "cell_type": "code",
   "execution_count": 14,
   "id": "235a4360",
   "metadata": {},
   "outputs": [
    {
     "data": {
      "text/plain": [
       "[{'title': 'Sharp Objects',\n",
       "  'rating': 4,\n",
       "  'price': '£47.82',\n",
       "  'in-stock': '\\n\\n    \\n        In stock\\n    \\n'},\n",
       " {'title': 'Sapiens: A Brief History of Humankind',\n",
       "  'rating': 5,\n",
       "  'price': '£54.23',\n",
       "  'in-stock': '\\n\\n    \\n        In stock\\n    \\n'},\n",
       " {'title': 'The Dirty Little Secrets of Getting Your Dream Job',\n",
       "  'rating': 4,\n",
       "  'price': '£33.34',\n",
       "  'in-stock': '\\n\\n    \\n        In stock\\n    \\n'},\n",
       " {'title': 'The Boys in the Boat: Nine Americans and Their Epic Quest for Gold at the 1936 Berlin Olympics',\n",
       "  'rating': 4,\n",
       "  'price': '£22.60',\n",
       "  'in-stock': '\\n\\n    \\n        In stock\\n    \\n'},\n",
       " {'title': \"Shakespeare's Sonnets\",\n",
       "  'rating': 4,\n",
       "  'price': '£20.66',\n",
       "  'in-stock': '\\n\\n    \\n        In stock\\n    \\n'},\n",
       " {'title': 'Set Me Free',\n",
       "  'rating': 5,\n",
       "  'price': '£17.46',\n",
       "  'in-stock': '\\n\\n    \\n        In stock\\n    \\n'},\n",
       " {'title': \"Scott Pilgrim's Precious Little Life (Scott Pilgrim #1)\",\n",
       "  'rating': 5,\n",
       "  'price': '£52.29',\n",
       "  'in-stock': '\\n\\n    \\n        In stock\\n    \\n'},\n",
       " {'title': 'Rip it Up and Start Again',\n",
       "  'rating': 5,\n",
       "  'price': '£35.02',\n",
       "  'in-stock': '\\n\\n    \\n        In stock\\n    \\n'}]"
      ]
     },
     "execution_count": 14,
     "metadata": {},
     "output_type": "execute_result"
    }
   ],
   "source": [
    "all_books = soup.find_all(\"article\", class_=\"product_pod\")\n",
    "\n",
    "def find_book_for_rating(stars):\n",
    "\n",
    "    books = []\n",
    "\n",
    "    rating_map = {\n",
    "    'One': 1,\n",
    "    'Two': 2, \n",
    "    'Three': 3,\n",
    "    'Four': 4,\n",
    "    'Five': 5\n",
    "}\n",
    "\n",
    "    for book in all_books:\n",
    "\n",
    "        rating_element = book.find(\"p\", class_=\"star-rating\")\n",
    "        rating_class = rating_element[\"class\"][1]\n",
    "        rating_number = rating_map[rating_class]\n",
    "\n",
    "        if rating_number >= stars:\n",
    "            title = book.find(\"h3\").find(\"a\")[\"title\"]\n",
    "            price = book.find(\"p\", class_=\"price_color\").get_text()\n",
    "            availability = book.find(\"p\", class_=\"instock availability\").get_text()\n",
    "\n",
    "            books.append({\n",
    "                \"title\": title,\n",
    "                \"rating\": rating_number,\n",
    "                \"price\": price,\n",
    "                \"in-stock\": availability\n",
    "            })\n",
    "\n",
    "    return books\n",
    "\n",
    "find_book_for_rating(4)\n",
    "    "
   ]
  }
 ],
 "metadata": {
  "kernelspec": {
   "display_name": ".venv",
   "language": "python",
   "name": "python3"
  },
  "language_info": {
   "codemirror_mode": {
    "name": "ipython",
    "version": 3
   },
   "file_extension": ".py",
   "mimetype": "text/x-python",
   "name": "python",
   "nbconvert_exporter": "python",
   "pygments_lexer": "ipython3",
   "version": "3.13.9"
  }
 },
 "nbformat": 4,
 "nbformat_minor": 5
}
